{
 "cells": [
  {
   "cell_type": "code",
   "execution_count": null,
   "id": "a2f7eb56",
   "metadata": {},
   "outputs": [],
   "source": [
    "#Exercise 1\n",
    "#Guess a number between 1 to 9 given by the user\n",
    "import random\n",
    "\n",
    "target_num, guess_num = random.randint(1, 9), 0\n",
    "\n",
    "while target_num != guess_num:\n",
    "    guess_num = int(input('Guess a number between 1 and 9'))\n",
    "print('nice guess!')"
   ]
  },
  {
   "cell_type": "code",
   "execution_count": 6,
   "id": "8eda72f4",
   "metadata": {},
   "outputs": [
    {
     "name": "stdout",
     "output_type": "stream",
     "text": [
      "Input your password: Ilove3571$\n",
      "Valid Password\n"
     ]
    }
   ],
   "source": [
    "\"\"\"Exercise 2\n",
    "Check the validity of password input by the user.\n",
    "\n",
    "Validation:\n",
    "\n",
    "At least 1 letter between [a-z] and 1 letter between [A-Z]\n",
    "At least 1 number between [0-9]\n",
    "At least 1 character from [$#@]\n",
    "Minimum length 6 characters\n",
    "Maximum length 16 characters\"\"\"\n",
    "\n",
    "import re\n",
    "password= input(\"Input your password: \")\n",
    "x = True\n",
    "while x:  \n",
    "    if (len(password)<6 or len(password)>12):\n",
    "        break\n",
    "    elif not re.search(\"[a-z]\",password):\n",
    "        break\n",
    "    elif not re.search(\"[0-9]\",password):\n",
    "        break\n",
    "    elif not re.search(\"[A-Z]\",password):\n",
    "        break\n",
    "    elif not re.search(\"[$#@]\",password):\n",
    "        break\n",
    "    elif re.search(\"\\s\",password):\n",
    "        break\n",
    "    else:\n",
    "        print(\"Valid Password\")\n",
    "        x=False\n",
    "        break\n",
    "if x:\n",
    "    print(\"Not a Valid Password\")"
   ]
  },
  {
   "cell_type": "code",
   "execution_count": 7,
   "id": "3a887d1c",
   "metadata": {},
   "outputs": [
    {
     "name": "stdout",
     "output_type": "stream",
     "text": [
      "Enter age Person 1: 5\n",
      "Enter age Person 2: 8\n",
      "Enter age Person 3: 15\n",
      "\n",
      "Person 3 is the oldest\n",
      "Person 1 is the youngest\n"
     ]
    }
   ],
   "source": [
    "#Exercise 3\n",
    "#Get input of the age of 3 people by user and determine oldest and youngest among them\n",
    "\n",
    "age1 = int(input(\"Enter age Person 1: \"))\n",
    "age2 = int(input(\"Enter age Person 2: \"))\n",
    "age3 = int(input(\"Enter age Person 3: \"))\n",
    "print()\n",
    "if (age1 > age2) & (age1 > age3):\n",
    "    print('Person 1 is the oldest')\n",
    "    if age2 < age3:\n",
    "        print('Person 2 is the youngest')\n",
    "    else:\n",
    "        print('Person 3 is the youngest')\n",
    "elif (age2 > age1) & (age2 > age3):\n",
    "    print('Person 2 is the oldest')\n",
    "    if age1 < age3:\n",
    "        print('Person 1 is the youngest')\n",
    "    else:\n",
    "        print('Person 3 is the youngest')\n",
    "else:\n",
    "     print('Person 3 is the oldest')\n",
    "     if age1 < age2:\n",
    "         print('Person 1 is the youngest')\n",
    "     else:\n",
    "         print('Person 2 is the youngest')"
   ]
  },
  {
   "cell_type": "code",
   "execution_count": 31,
   "id": "df51e564",
   "metadata": {},
   "outputs": [
    {
     "name": "stdout",
     "output_type": "stream",
     "text": [
      "Enter the classes held count: 7\n",
      "Enter the classes attended count: 2\n",
      "0.2857142857142857\n",
      "Not allowed to take exam\n"
     ]
    }
   ],
   "source": [
    "\"\"\"Exercise 4\n",
    "A student will not be allowed to sit in exam if his/her attendance is less than 75%.\n",
    "\n",
    "Take following input from user\n",
    "\n",
    "Number of classes held\n",
    "Number of classes attended.\n",
    "And print percentage of class attended\n",
    "Is student is allowed to sit in exam or not?\"\"\"\n",
    "\n",
    "held=int(input(\"Enter the classes held count: \"))\n",
    "att=int(input(\"Enter the classes attended count: \"))\n",
    "a_percent = (att / held)\n",
    "\n",
    "print(a_percent)\n",
    "\n",
    "if a_percent > 0.75 :\n",
    "        print('Allowed to take exam')\n",
    "else:\n",
    "        print('Not allowed to take exam')"
   ]
  },
  {
   "cell_type": "code",
   "execution_count": 35,
   "id": "b6022453",
   "metadata": {},
   "outputs": [
    {
     "name": "stdout",
     "output_type": "stream",
     "text": [
      "Enter a number: 7\n",
      "7 is Odd\n"
     ]
    }
   ],
   "source": [
    "\"\"\"Exercise 5\n",
    "\n",
    "Get an integer N from the user and perform the following actions:\n",
    "\n",
    "if N is odd, print \"weird\"\n",
    "if N is even and in the inclusive range of 2 to 5, print \"Not Weird\"\n",
    "if N is even and in the inclusive range of 6 to 20, print \"Weird\"\n",
    "if N is even and greater than 20, print \"Not Weird\" \"\"\"\n",
    "\n",
    "num = int(input(\"Enter a number: \"))\n",
    "if (num % 2) == 0:\n",
    "    print(\"{0} is Even\".format(num))\n",
    "else:\n",
    "    print(\"{0} is Odd\".format(num))"
   ]
  },
  {
   "cell_type": "code",
   "execution_count": null,
   "id": "8e99f7c2",
   "metadata": {},
   "outputs": [],
   "source": []
  }
 ],
 "metadata": {
  "kernelspec": {
   "display_name": "Python 3 (ipykernel)",
   "language": "python",
   "name": "python3"
  },
  "language_info": {
   "codemirror_mode": {
    "name": "ipython",
    "version": 3
   },
   "file_extension": ".py",
   "mimetype": "text/x-python",
   "name": "python",
   "nbconvert_exporter": "python",
   "pygments_lexer": "ipython3",
   "version": "3.9.13"
  }
 },
 "nbformat": 4,
 "nbformat_minor": 5
}
