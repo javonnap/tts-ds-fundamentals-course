{
 "cells": [
  {
   "cell_type": "code",
   "execution_count": 13,
   "id": "d82ea427",
   "metadata": {},
   "outputs": [],
   "source": [
    "#Python is a dynamicaly typed programming language- not statically typed"
   ]
  },
  {
   "cell_type": "code",
   "execution_count": 1,
   "id": "7e38185a",
   "metadata": {},
   "outputs": [
    {
     "name": "stdout",
     "output_type": "stream",
     "text": [
      "55\n"
     ]
    }
   ],
   "source": [
    "_my_var = 55\n",
    "\n",
    "print(_my_var)"
   ]
  },
  {
   "cell_type": "code",
   "execution_count": 12,
   "id": "44fb788b",
   "metadata": {},
   "outputs": [],
   "source": [
    "#Variable Setting\n",
    "#A python variable must start with a undersore or letter.\n",
    "_my_var = 55"
   ]
  },
  {
   "cell_type": "code",
   "execution_count": null,
   "id": "d84afe02",
   "metadata": {},
   "outputs": [],
   "source": [
    "#Data Types\n",
    "my_bool = True\n",
    "my_bool_two = False\n",
    "my_int = 55\n",
    "my_float = 4.3\n",
    "my_string = \"Hello World!\"\n",
    "another_string = 'Hello World!'\n",
    "yet_another_string = \"\"\"Hello World!\"\"\""
   ]
  },
  {
   "cell_type": "code",
   "execution_count": 9,
   "id": "122f0640",
   "metadata": {},
   "outputs": [
    {
     "ename": "NameError",
     "evalue": "name 'another_string' is not defined",
     "output_type": "error",
     "traceback": [
      "\u001b[1;31m---------------------------------------------------------------------------\u001b[0m",
      "\u001b[1;31mNameError\u001b[0m                                 Traceback (most recent call last)",
      "\u001b[1;32m~\\AppData\\Local\\Temp\\ipykernel_19656\\1787420965.py\u001b[0m in \u001b[0;36m<module>\u001b[1;34m\u001b[0m\n\u001b[0;32m      1\u001b[0m \u001b[1;31m#how to check data type\u001b[0m\u001b[1;33m\u001b[0m\u001b[1;33m\u001b[0m\u001b[0m\n\u001b[1;32m----> 2\u001b[1;33m \u001b[0mtype\u001b[0m\u001b[1;33m(\u001b[0m\u001b[0manother_string\u001b[0m\u001b[1;33m)\u001b[0m\u001b[1;33m\u001b[0m\u001b[1;33m\u001b[0m\u001b[0m\n\u001b[0m",
      "\u001b[1;31mNameError\u001b[0m: name 'another_string' is not defined"
     ]
    }
   ],
   "source": [
    "#how to check data type\n",
    "type(another_string)"
   ]
  },
  {
   "cell_type": "code",
   "execution_count": null,
   "id": "5abd1dd4",
   "metadata": {},
   "outputs": [],
   "source": [
    "another_string = 45"
   ]
  },
  {
   "cell_type": "code",
   "execution_count": null,
   "id": "9da8b7ad",
   "metadata": {},
   "outputs": [],
   "source": [
    "int my_int = 44"
   ]
  },
  {
   "cell_type": "code",
   "execution_count": null,
   "id": "1e2676b2",
   "metadata": {},
   "outputs": [],
   "source": [
    "#Math in Python\n",
    "#Pemdas\n",
    "x = 4\n",
    "y = 5"
   ]
  },
  {
   "cell_type": "code",
   "execution_count": 11,
   "id": "1d64f038",
   "metadata": {},
   "outputs": [
    {
     "ename": "NameError",
     "evalue": "name 'x' is not defined",
     "output_type": "error",
     "traceback": [
      "\u001b[1;31m---------------------------------------------------------------------------\u001b[0m",
      "\u001b[1;31mNameError\u001b[0m                                 Traceback (most recent call last)",
      "\u001b[1;32m~\\AppData\\Local\\Temp\\ipykernel_19656\\3598954175.py\u001b[0m in \u001b[0;36m<module>\u001b[1;34m\u001b[0m\n\u001b[1;32m----> 1\u001b[1;33m \u001b[0mprint\u001b[0m\u001b[1;33m(\u001b[0m\u001b[0mx\u001b[0m \u001b[1;33m+\u001b[0m \u001b[0my\u001b[0m\u001b[1;33m)\u001b[0m\u001b[1;33m\u001b[0m\u001b[1;33m\u001b[0m\u001b[0m\n\u001b[0m",
      "\u001b[1;31mNameError\u001b[0m: name 'x' is not defined"
     ]
    }
   ],
   "source": [
    "print(x + y)"
   ]
  },
  {
   "cell_type": "code",
   "execution_count": null,
   "id": "9620f271",
   "metadata": {},
   "outputs": [],
   "source": [
    "#Conditional Evaluation"
   ]
  },
  {
   "cell_type": "code",
   "execution_count": null,
   "id": "cf731ab5",
   "metadata": {},
   "outputs": [],
   "source": [
    "#input function\n",
    "#function\n",
    "#reusable pieces of code that carry out a specific tasks.\n",
    "#output based on input\n",
    "\n",
    "#syntax - set of instructions to give computer\n",
    "# def name_of_the_function(parameter_1, parameter_2, etc...):"
   ]
  },
  {
   "cell_type": "code",
   "execution_count": 6,
   "id": "f83bae7c",
   "metadata": {},
   "outputs": [],
   "source": [
    "#inside of a funtion's parentheses are the parameters\n",
    "#when we define a funtion there are\n",
    "def adds_two_things_together(x, y):\n",
    "    print( x + y)\n"
   ]
  },
  {
   "cell_type": "code",
   "execution_count": 7,
   "id": "c886a989",
   "metadata": {},
   "outputs": [
    {
     "name": "stdout",
     "output_type": "stream",
     "text": [
      "193\n"
     ]
    }
   ],
   "source": [
    "#funtion call\n",
    "#syntax for calling a function - name_of_the_function(argument_1, argument_2)\n",
    "adds_two_things_together(55, 138)"
   ]
  },
  {
   "cell_type": "code",
   "execution_count": null,
   "id": "82d53b79",
   "metadata": {},
   "outputs": [],
   "source": [
    "#python is a dynamic programming language"
   ]
  },
  {
   "cell_type": "code",
   "execution_count": null,
   "id": "11d5b7aa",
   "metadata": {},
   "outputs": [],
   "source": [
    "#example java funtion\n",
    "public int my_function_example(x, y){\n",
    "    system.out.print.ln(x + y)\n",
    "    \n",
    "}"
   ]
  },
  {
   "cell_type": "code",
   "execution_count": 9,
   "id": "4ff4f935",
   "metadata": {},
   "outputs": [
    {
     "ename": "NameError",
     "evalue": "name 'no_arguments_function' is not defined",
     "output_type": "error",
     "traceback": [
      "\u001b[1;31m---------------------------------------------------------------------------\u001b[0m",
      "\u001b[1;31mNameError\u001b[0m                                 Traceback (most recent call last)",
      "\u001b[1;32m~\\AppData\\Local\\Temp\\ipykernel_15464\\2279416250.py\u001b[0m in \u001b[0;36m<module>\u001b[1;34m\u001b[0m\n\u001b[0;32m      2\u001b[0m     \u001b[0mprint\u001b[0m \u001b[1;33m(\u001b[0m\u001b[1;34m\"hello world!\"\u001b[0m\u001b[1;33m)\u001b[0m\u001b[1;33m\u001b[0m\u001b[1;33m\u001b[0m\u001b[0m\n\u001b[0;32m      3\u001b[0m \u001b[1;33m\u001b[0m\u001b[0m\n\u001b[1;32m----> 4\u001b[1;33m \u001b[0mno_arguments_function\u001b[0m\u001b[1;33m(\u001b[0m\u001b[1;33m)\u001b[0m\u001b[1;33m\u001b[0m\u001b[1;33m\u001b[0m\u001b[0m\n\u001b[0m",
      "\u001b[1;31mNameError\u001b[0m: name 'no_arguments_function' is not defined"
     ]
    }
   ],
   "source": [
    "def no_arguments_funciton():\n",
    "    print (\"hello world!\")   "
   ]
  },
  {
   "cell_type": "code",
   "execution_count": 8,
   "id": "4094205e",
   "metadata": {},
   "outputs": [
    {
     "ename": "NameError",
     "evalue": "name 'no_arguments_function' is not defined",
     "output_type": "error",
     "traceback": [
      "\u001b[1;31m---------------------------------------------------------------------------\u001b[0m",
      "\u001b[1;31mNameError\u001b[0m                                 Traceback (most recent call last)",
      "\u001b[1;32m~\\AppData\\Local\\Temp\\ipykernel_15464\\2762945498.py\u001b[0m in \u001b[0;36m<module>\u001b[1;34m\u001b[0m\n\u001b[1;32m----> 1\u001b[1;33m \u001b[0mno_arguments_function\u001b[0m\u001b[1;33m(\u001b[0m\u001b[1;33m)\u001b[0m\u001b[1;33m\u001b[0m\u001b[1;33m\u001b[0m\u001b[0m\n\u001b[0m",
      "\u001b[1;31mNameError\u001b[0m: name 'no_arguments_function' is not defined"
     ]
    }
   ],
   "source": [
    "no_arguments_function()"
   ]
  },
  {
   "cell_type": "code",
   "execution_count": 11,
   "id": "5eb6e13f",
   "metadata": {},
   "outputs": [],
   "source": [
    "x = \" we're \"\n",
    "y = \" in \"\n",
    "z = \" class \""
   ]
  },
  {
   "cell_type": "code",
   "execution_count": 12,
   "id": "107226d0",
   "metadata": {},
   "outputs": [
    {
     "name": "stdout",
     "output_type": "stream",
     "text": [
      " we're  in  class \n"
     ]
    }
   ],
   "source": [
    "print (x + y + z)"
   ]
  },
  {
   "cell_type": "code",
   "execution_count": null,
   "id": "d8612616",
   "metadata": {},
   "outputs": [],
   "source": [
    "#return- return statements end the funciton call\n",
    "#return statemets are equivalent to the function call"
   ]
  },
  {
   "cell_type": "code",
   "execution_count": 15,
   "id": "7bdb6faa",
   "metadata": {},
   "outputs": [],
   "source": [
    "def example_function(parameter_1, parameter_2):\n",
    "    print(\"Hello World!\")\n",
    "    return (parameter_1 * parameter_2)\n"
   ]
  },
  {
   "cell_type": "code",
   "execution_count": 16,
   "id": "1f4bed44",
   "metadata": {},
   "outputs": [
    {
     "name": "stdout",
     "output_type": "stream",
     "text": [
      "Hello World!\n"
     ]
    },
    {
     "data": {
      "text/plain": [
       "25"
      ]
     },
     "execution_count": 16,
     "metadata": {},
     "output_type": "execute_result"
    }
   ],
   "source": [
    "example_function(5, 5)"
   ]
  },
  {
   "cell_type": "code",
   "execution_count": 17,
   "id": "fca9b100",
   "metadata": {},
   "outputs": [
    {
     "name": "stdout",
     "output_type": "stream",
     "text": [
      "Hello World!\n"
     ]
    },
    {
     "data": {
      "text/plain": [
       "int"
      ]
     },
     "execution_count": 17,
     "metadata": {},
     "output_type": "execute_result"
    }
   ],
   "source": [
    "type(example_function(5, 5))"
   ]
  },
  {
   "cell_type": "code",
   "execution_count": null,
   "id": "bcd21ad7",
   "metadata": {},
   "outputs": [],
   "source": []
  }
 ],
 "metadata": {
  "kernelspec": {
   "display_name": "Python 3 (ipykernel)",
   "language": "python",
   "name": "python3"
  },
  "language_info": {
   "codemirror_mode": {
    "name": "ipython",
    "version": 3
   },
   "file_extension": ".py",
   "mimetype": "text/x-python",
   "name": "python",
   "nbconvert_exporter": "python",
   "pygments_lexer": "ipython3",
   "version": "3.9.13"
  }
 },
 "nbformat": 4,
 "nbformat_minor": 5
}
