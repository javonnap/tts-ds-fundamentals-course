{
 "cells": [
  {
   "cell_type": "code",
   "execution_count": 1,
   "id": "ae537f18",
   "metadata": {},
   "outputs": [
    {
     "name": "stdout",
     "output_type": "stream",
     "text": [
      "Enter your first name: Javonna\n",
      "Enter your last name: Pendleton\n",
      "Pendleton Javonna\n"
     ]
    }
   ],
   "source": [
    "#Accept the user's first and last name and print them in reverse order with a space between them\n",
    "f_name = input(\"Enter your first name: \")\n",
    "l_name = input(\"Enter your last name: \")\n",
    "output = print( l_name + \" \" + f_name)"
   ]
  },
  {
   "cell_type": "code",
   "execution_count": 2,
   "id": "4af92a84",
   "metadata": {},
   "outputs": [
    {
     "name": "stdout",
     "output_type": "stream",
     "text": [
      "861\n"
     ]
    }
   ],
   "source": [
    "#Accept an integer (n) input from the user and compute the value of n+nn+nnn. \n",
    "#For example if n=4 then n + nn + nnn = 4 + 44 + 444 = 492\n",
    "n = 7\n",
    "nn = 77\n",
    "nnn = 777\n",
    "print(n + nn + nnn)"
   ]
  },
  {
   "cell_type": "code",
   "execution_count": 3,
   "id": "40352dad",
   "metadata": {},
   "outputs": [
    {
     "name": "stdout",
     "output_type": "stream",
     "text": [
      "What country are you from? USA\n",
      "I have heard that USA is a beautiful country!\n"
     ]
    }
   ],
   "source": [
    "#Ask the user \"What country are you from?\" \n",
    "#then print the following statement: \"I have heard that [input] is a beautiful country!\"\n",
    "country = input(\"What country are you from? \")\n",
    "output = print(\"I have heard that \" + (country) + \" is a beautiful country!\")"
   ]
  },
  {
   "cell_type": "code",
   "execution_count": 4,
   "id": "aeda47b3",
   "metadata": {},
   "outputs": [],
   "source": [
    "#What is the output of the following Python code?\n",
    "\n",
    "x = 10\n",
    "y = 50\n",
    "\n",
    "if x ** 2 > 100 and y < 100:\n",
    "    print(x , y)\n",
    "#false, no answer"
   ]
  },
  {
   "cell_type": "code",
   "execution_count": 5,
   "id": "55cd02af",
   "metadata": {},
   "outputs": [
    {
     "name": "stdout",
     "output_type": "stream",
     "text": [
      "[10, 20, 30, 40]\n",
      "[10, 20, 30, 40]\n"
     ]
    }
   ],
   "source": [
    "#What is the output of the following addition (+) operator, and why does this code chunk execute this way?\n",
    "a = [10, 20]\n",
    "b = a\n",
    "b += [30, 40]\n",
    "print(a)\n",
    "print(b)\n",
    "#this addition operator joined the arrays together. The brackets around the numbers indicate that a and b are arrays."
   ]
  },
  {
   "cell_type": "markdown",
   "id": "720670e8",
   "metadata": {},
   "source": [
    "#What is the output of the following code and what arithmetic operators is being used here? print(2%6)\n",
    "print (2%6)\n",
    "#2\n",
    "#Arithmetic operators: Modulus"
   ]
  },
  {
   "cell_type": "code",
   "execution_count": 7,
   "id": "a8f4ef79",
   "metadata": {},
   "outputs": [
    {
     "name": "stdout",
     "output_type": "stream",
     "text": [
      "216\n"
     ]
    }
   ],
   "source": [
    "#What is the output of the following code and what arithmetic operators are used here? print(2 * 3 ** 3 * 4)\n",
    "print (2* 3 ** 3 * 4)\n",
    "#216\n",
    "#Arithmetic operators: Multiplication and Exponentiation"
   ]
  },
  {
   "cell_type": "code",
   "execution_count": null,
   "id": "188e0c35",
   "metadata": {},
   "outputs": [],
   "source": [
    "#What is a text editor?\n",
    "#A text editor allows you to edit text. You can write out long blocks of code to use for developing a new program"
   ]
  },
  {
   "cell_type": "code",
   "execution_count": null,
   "id": "7cdd65d6",
   "metadata": {},
   "outputs": [],
   "source": [
    "#What is python?\n",
    "\"\"\" Python is a dynamically typed programming language- not statically typed. It is built in data structures, \n",
    "combined with dynamic typing and dynamic binding and can be used as a scripting or glue language to connect \n",
    "existing components together. \"\"\""
   ]
  },
  {
   "cell_type": "code",
   "execution_count": null,
   "id": "14a147fe",
   "metadata": {},
   "outputs": [],
   "source": [
    "#What is jupyter notebook, what type of python environment is it, and what alternatives are there to jupyter notebook?\n",
    "\"\"\" Jupyter notebook is an open-source web application that you can use to create and share \n",
    "documents that contain live code, equations, visualizations, and text. Using a virtual environment. \n",
    "Other alternatives to jupyter notebook are: RStudio, Eclipse, Rodeo IDE, and Apache. \"\"\""
   ]
  }
 ],
 "metadata": {
  "kernelspec": {
   "display_name": "Python 3 (ipykernel)",
   "language": "python",
   "name": "python3"
  },
  "language_info": {
   "codemirror_mode": {
    "name": "ipython",
    "version": 3
   },
   "file_extension": ".py",
   "mimetype": "text/x-python",
   "name": "python",
   "nbconvert_exporter": "python",
   "pygments_lexer": "ipython3",
   "version": "3.9.13"
  }
 },
 "nbformat": 4,
 "nbformat_minor": 5
}
