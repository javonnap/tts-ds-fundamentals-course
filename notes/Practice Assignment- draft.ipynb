{
 "cells": [
  {
   "cell_type": "code",
   "execution_count": 2,
   "id": "973a299c",
   "metadata": {},
   "outputs": [
    {
     "name": "stdout",
     "output_type": "stream",
     "text": [
      "Enter your first name: Javonna\n",
      "Enter your last name: Pendleton\n",
      "Pendleton Javonna\n"
     ]
    }
   ],
   "source": [
    "#Accept the user's first and last name and print them in reverse order with a space between them\n",
    "f_name = input(\"Enter your first name: \")\n",
    "l_name = input(\"Enter your last name: \")\n",
    "output = print( l_name + \" \" + f_name)"
   ]
  },
  {
   "cell_type": "code",
   "execution_count": 6,
   "id": "fa3d0fde",
   "metadata": {},
   "outputs": [],
   "source": [
    "#Accept an integer (n) input from the user and compute the value of n+nn+nnn. \n",
    "#For example if n=4 then n + nn + nnn = 4 + 44 + 444 = 492\n",
    "n = 7\n",
    "nn = 77\n",
    "nnn = 777"
   ]
  },
  {
   "cell_type": "code",
   "execution_count": 7,
   "id": "f0976486",
   "metadata": {},
   "outputs": [
    {
     "ename": "NameError",
     "evalue": "name 'n' is not defined",
     "output_type": "error",
     "traceback": [
      "\u001b[1;31m---------------------------------------------------------------------------\u001b[0m",
      "\u001b[1;31mNameError\u001b[0m                                 Traceback (most recent call last)",
      "\u001b[1;32m~\\AppData\\Local\\Temp\\ipykernel_15904\\3348264556.py\u001b[0m in \u001b[0;36m<module>\u001b[1;34m\u001b[0m\n\u001b[1;32m----> 1\u001b[1;33m \u001b[0mprint\u001b[0m\u001b[1;33m(\u001b[0m\u001b[0mn\u001b[0m \u001b[1;33m+\u001b[0m \u001b[0mnn\u001b[0m \u001b[1;33m+\u001b[0m \u001b[0mnnn\u001b[0m\u001b[1;33m)\u001b[0m\u001b[1;33m\u001b[0m\u001b[1;33m\u001b[0m\u001b[0m\n\u001b[0m",
      "\u001b[1;31mNameError\u001b[0m: name 'n' is not defined"
     ]
    }
   ],
   "source": [
    "print(n + nn + nnn)"
   ]
  },
  {
   "cell_type": "code",
   "execution_count": 5,
   "id": "3c9bff0b",
   "metadata": {},
   "outputs": [
    {
     "name": "stdout",
     "output_type": "stream",
     "text": [
      "What country are you from? usa\n",
      "I have heard that usa is a beautiful country!\n"
     ]
    }
   ],
   "source": [
    "#Ask the user \"What country are you from?\" \n",
    "#then print the following statement: \"I have heard that [input] is a beautiful country!\"\n",
    "country = input(\"What country are you from? \")\n",
    "output = print(\"I have heard that \" + (country) + \" is a beautiful country!\")"
   ]
  },
  {
   "cell_type": "code",
   "execution_count": 7,
   "id": "145056c2",
   "metadata": {},
   "outputs": [],
   "source": [
    "x = 10\n",
    "y = 50\n",
    "\n",
    "if x ** 2 > 100 and y < 100:\n",
    "    print(x , y) \n",
    "    #false"
   ]
  },
  {
   "cell_type": "code",
   "execution_count": 8,
   "id": "8c859a9a",
   "metadata": {},
   "outputs": [
    {
     "name": "stdout",
     "output_type": "stream",
     "text": [
      "[10, 20, 30, 40]\n",
      "[10, 20, 30, 40]\n"
     ]
    }
   ],
   "source": [
    "a = [10, 20]\n",
    "b = a\n",
    "b += [30, 40]\n",
    "print(a)\n",
    "print(b)"
   ]
  },
  {
   "cell_type": "code",
   "execution_count": 9,
   "id": "93cc37c8",
   "metadata": {},
   "outputs": [
    {
     "name": "stdout",
     "output_type": "stream",
     "text": [
      "2\n"
     ]
    }
   ],
   "source": [
    "print(2%6)"
   ]
  },
  {
   "cell_type": "code",
   "execution_count": 10,
   "id": "86a2c140",
   "metadata": {},
   "outputs": [
    {
     "name": "stdout",
     "output_type": "stream",
     "text": [
      "216\n"
     ]
    }
   ],
   "source": [
    "print(2 * 3 ** 3 * 4)"
   ]
  },
  {
   "cell_type": "code",
   "execution_count": null,
   "id": "53ad23a9",
   "metadata": {},
   "outputs": [],
   "source": []
  }
 ],
 "metadata": {
  "kernelspec": {
   "display_name": "Python 3 (ipykernel)",
   "language": "python",
   "name": "python3"
  },
  "language_info": {
   "codemirror_mode": {
    "name": "ipython",
    "version": 3
   },
   "file_extension": ".py",
   "mimetype": "text/x-python",
   "name": "python",
   "nbconvert_exporter": "python",
   "pygments_lexer": "ipython3",
   "version": "3.9.13"
  }
 },
 "nbformat": 4,
 "nbformat_minor": 5
}
