{
 "cells": [
  {
   "cell_type": "code",
   "execution_count": 2,
   "id": "ba3921bf",
   "metadata": {},
   "outputs": [
    {
     "name": "stdout",
     "output_type": "stream",
     "text": [
      "(2.0, 1.0)\n",
      "(-1.0, -1.0)\n"
     ]
    }
   ],
   "source": [
    "\"\"\"Exercise 1\n",
    "In mathematics, the quadratic equation ax2+bx+c=0 can be solved with the formula x=−b±b2−4ac√2a.\n",
    "\n",
    "Write a function solve_quadratic, \n",
    "that returns both solutions of a generic quadratic as a pair (2-tuple) when the coefficients are given as parameters. \n",
    "It should work like this:\n",
    "print(solve_quadratic(1,-3,2))\n",
    "(2.0,1.0)\n",
    "print(solve_quadratic(1,2,1))\n",
    "(-1.0,-1.0) \"\"\"\n",
    "\n",
    "import math \n",
    "\n",
    "def solve_quadratic(a, b, c):\n",
    "    d = (b*b) - (4*a*c)\n",
    "    sqrt_val = math.sqrt(abs(d))\n",
    "    \n",
    "    sol1 = (-b+sqrt_val)/(2*a) \n",
    "    sol2 = (-b-sqrt_val)/(2*a)\n",
    "    tup = sol1, sol2\n",
    "    return tup\n",
    "\n",
    "print(solve_quadratic(1, -3, 2))\n",
    "print(solve_quadratic(1, 2, 1))"
   ]
  },
  {
   "cell_type": "code",
   "execution_count": 6,
   "id": "718ac681",
   "metadata": {},
   "outputs": [
    {
     "name": "stdout",
     "output_type": "stream",
     "text": [
      "Enter space-separated integers: 9 7 2 5\n",
      "('9', '7', '2', '5')\n",
      "1849508711270790907\n"
     ]
    }
   ],
   "source": [
    "#Exercise 2\n",
    "#Get a space-separated list of integers from the user, create a tuple of those integers. \n",
    "#Then compute and print the result of hash(tuple).\n",
    "\n",
    "my_tuple = tuple(input('Enter space-separated integers: ').split())\n",
    "\n",
    "print(my_tuple)\n",
    "print (hash(my_tuple))"
   ]
  },
  {
   "cell_type": "code",
   "execution_count": 8,
   "id": "ae612a4c",
   "metadata": {},
   "outputs": [
    {
     "name": "stdout",
     "output_type": "stream",
     "text": [
      "[6, 12, 18]\n",
      "[4, 12, 20, 28]\n",
      "[6, 12, 18, 4, 12, 20, 28]\n"
     ]
    }
   ],
   "source": [
    "#Exercise 3\n",
    "#Take the following two lists. \n",
    "#Create a third list by picking a odd-index elements from the first list and even-index elements from the second.\n",
    "\n",
    "listOne = [3, 6, 9, 12, 15, 18, 21]\n",
    "listTwo = [4, 8, 12, 16, 20, 24, 28]\n",
    "\n",
    "final = list()\n",
    "\n",
    "odd = listOne[1::2]\n",
    "print (odd)\n",
    "\n",
    "even = listTwo[0::2]\n",
    "print (even)\n",
    "\n",
    "final.extend(odd)\n",
    "final.extend(even)\n",
    "print (final)"
   ]
  },
  {
   "cell_type": "code",
   "execution_count": 11,
   "id": "38baa28a",
   "metadata": {},
   "outputs": [
    {
     "name": "stdout",
     "output_type": "stream",
     "text": [
      "new list  0 [11, 45, 8]\n",
      "After reversing it  [8, 45, 11]\n",
      "new list  1 [23, 14, 12]\n",
      "After reversing it  [12, 14, 23]\n",
      "new list  2 [78, 45, 89]\n",
      "After reversing it  [89, 45, 78]\n"
     ]
    }
   ],
   "source": [
    "#Exercise 4\n",
    "#Take the following list. Slice it into three equal chunks and reverse each list.\n",
    "\n",
    "sampleList = [11, 45, 8, 23, 14, 12, 78, 45, 89]\n",
    "\n",
    "length = len(sampleList)\n",
    "chunk_size = int(length / 3)\n",
    "start = 0\n",
    "end = chunk_size\n",
    "\n",
    "for i in range(3):\n",
    "    # get indexes\n",
    "    indexes = slice(start, end)\n",
    "    \n",
    "    # get chunk\n",
    "    list_chunk = sampleList[indexes]\n",
    "    print(\"new list \", i, list_chunk)\n",
    "    \n",
    "    # reverse chunk\n",
    "    print(\"After reversing it \", list(reversed(list_chunk)))\n",
    "\n",
    "    start = end\n",
    "    end += chunk_size"
   ]
  },
  {
   "cell_type": "code",
   "execution_count": 16,
   "id": "27743e4d",
   "metadata": {},
   "outputs": [
    {
     "name": "stdout",
     "output_type": "stream",
     "text": [
      "after removing unwanted elements from list: [47, 69, 76, 97]\n"
     ]
    }
   ],
   "source": [
    "#Exercise 5\n",
    "#Iterate through a given list and check if a given element already exists in a dictionary as a key’s value. \n",
    "#If not, delete it from the list.\n",
    "\n",
    "rollNumber = [47, 64, 69, 37, 76, 83, 95, 97]\n",
    "sampleDict ={'Zach':47, 'Emma':69, 'Kelly':76, 'Jason':97}\n",
    "\n",
    "rollNumber[:] = [item for item in rollNumber if item in sampleDict.values()]\n",
    "print(\"after removing unwanted elements from list:\", rollNumber)"
   ]
  },
  {
   "cell_type": "code",
   "execution_count": null,
   "id": "598bb0f5",
   "metadata": {},
   "outputs": [],
   "source": []
  }
 ],
 "metadata": {
  "kernelspec": {
   "display_name": "Python 3 (ipykernel)",
   "language": "python",
   "name": "python3"
  },
  "language_info": {
   "codemirror_mode": {
    "name": "ipython",
    "version": 3
   },
   "file_extension": ".py",
   "mimetype": "text/x-python",
   "name": "python",
   "nbconvert_exporter": "python",
   "pygments_lexer": "ipython3",
   "version": "3.9.13"
  }
 },
 "nbformat": 4,
 "nbformat_minor": 5
}
